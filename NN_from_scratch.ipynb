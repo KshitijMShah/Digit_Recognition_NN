{
  "nbformat": 4,
  "nbformat_minor": 0,
  "metadata": {
    "kernelspec": {
      "display_name": "Python 3",
      "language": "python",
      "name": "python3"
    },
    "language_info": {
      "codemirror_mode": {
        "name": "ipython",
        "version": 3
      },
      "file_extension": ".py",
      "mimetype": "text/x-python",
      "name": "python",
      "nbconvert_exporter": "python",
      "pygments_lexer": "ipython3",
      "version": "3.7.6"
    },
    "papermill": {
      "duration": 55.320944,
      "end_time": "2020-11-24T15:34:35.258832",
      "environment_variables": {},
      "exception": null,
      "input_path": "__notebook__.ipynb",
      "output_path": "__notebook__.ipynb",
      "parameters": {},
      "start_time": "2020-11-24T15:33:39.937888",
      "version": "2.1.0"
    },
    "colab": {
      "name": "NN-from-scratch.ipynb",
      "provenance": []
    }
  },
  "cells": [
    {
      "cell_type": "code",
      "metadata": {
        "_cell_guid": "b1076dfc-b9ad-4769-8c92-a6c4dae69d19",
        "_uuid": "8f2839f25d086af736a60e9eeb907d3b93b6e0e5",
        "execution": {
          "iopub.execute_input": "2020-11-24T15:33:44.617819Z",
          "iopub.status.busy": "2020-11-24T15:33:44.616734Z",
          "iopub.status.idle": "2020-11-24T15:33:48.545917Z",
          "shell.execute_reply": "2020-11-24T15:33:48.545192Z"
        },
        "papermill": {
          "duration": 3.947576,
          "end_time": "2020-11-24T15:33:48.546057",
          "exception": false,
          "start_time": "2020-11-24T15:33:44.598481",
          "status": "completed"
        },
        "tags": [],
        "id": "aJkTNzg1xjAM"
      },
      "source": [
        "import numpy as np\n",
        "import pandas as pd\n",
        "from matplotlib import pyplot as plt\n",
        "\n",
        "\n",
        "#Use the path where the Dataset is stored!\n",
        "data = pd.read_csv('/content/train.csv')"
      ],
      "execution_count": null,
      "outputs": []
    },
    {
      "cell_type": "code",
      "metadata": {
        "execution": {
          "iopub.execute_input": "2020-11-24T15:33:48.577955Z",
          "iopub.status.busy": "2020-11-24T15:33:48.576778Z",
          "iopub.status.idle": "2020-11-24T15:33:49.353469Z",
          "shell.execute_reply": "2020-11-24T15:33:49.352724Z"
        },
        "papermill": {
          "duration": 0.795759,
          "end_time": "2020-11-24T15:33:49.353603",
          "exception": false,
          "start_time": "2020-11-24T15:33:48.557844",
          "status": "completed"
        },
        "tags": [],
        "id": "7ke81vwAxjAN"
      },
      "source": [
        "data = np.array(data)\n",
        "m, n = data.shape\n",
        "np.random.shuffle(data) # shuffle before splitting into dev and training sets\n",
        "\n",
        "data_dev = data[0:1000].T\n",
        "Y_dev = data_dev[0]\n",
        "X_dev = data_dev[1:n]\n",
        "X_dev = X_dev / 255.\n",
        "\n",
        "data_train = data[1000:m].T\n",
        "Y_train = data_train[0]\n",
        "X_train = data_train[1:n]\n",
        "X_train = X_train / 255.\n",
        "_,m_train = X_train.shape"
      ],
      "execution_count": null,
      "outputs": []
    },
    {
      "cell_type": "code",
      "metadata": {
        "execution": {
          "iopub.execute_input": "2020-11-24T15:33:49.385574Z",
          "iopub.status.busy": "2020-11-24T15:33:49.384483Z",
          "iopub.status.idle": "2020-11-24T15:33:49.388342Z",
          "shell.execute_reply": "2020-11-24T15:33:49.388923Z"
        },
        "papermill": {
          "duration": 0.023743,
          "end_time": "2020-11-24T15:33:49.389054",
          "exception": false,
          "start_time": "2020-11-24T15:33:49.365311",
          "status": "completed"
        },
        "tags": [],
        "id": "B5z0UYqbxjAO"
      },
      "source": [
        "Y_train"
      ],
      "execution_count": null,
      "outputs": []
    },
    {
      "cell_type": "markdown",
      "metadata": {
        "papermill": {
          "duration": 0.011724,
          "end_time": "2020-11-24T15:33:49.413261",
          "exception": false,
          "start_time": "2020-11-24T15:33:49.401537",
          "status": "completed"
        },
        "tags": [],
        "id": "C74PR_i8xjAP"
      },
      "source": [
        "Simple two-layer architecure\n",
        "1. Input layer $a^{[0]}$ will have 784 units corresponding to the 784 pixels in each 28x28 input image\n",
        "2. A hidden layer $a^{[1]}$ will have 10 units with **ReLU** activation\n",
        "3. Output layer $a^{[2]}$ will have 10 units corresponding to the ten digit classes with **softmax** activation.\n",
        "\n",
        "**Forward propagation**\n",
        "\n",
        "$$Z^{[1]} = W^{[1]} X + b^{[1]}$$\n",
        "$$A^{[1]} = g_{\\text{ReLU}}(Z^{[1]}))$$\n",
        "$$Z^{[2]} = W^{[2]} A^{[1]} + b^{[2]}$$\n",
        "$$A^{[2]} = g_{\\text{softmax}}(Z^{[2]})$$\n",
        "\n",
        "**Backward propagation**\n",
        "\n",
        "$$dZ^{[2]} = A^{[2]} - Y$$\n",
        "$$dW^{[2]} = \\frac{1}{m} dZ^{[2]} A^{[1]T}$$\n",
        "$$dB^{[2]} = \\frac{1}{m} \\Sigma {dZ^{[2]}}$$\n",
        "$$dZ^{[1]} = W^{[2]T} dZ^{[2]} .* g^{[1]\\prime} (z^{[1]})$$\n",
        "$$dW^{[1]} = \\frac{1}{m} dZ^{[1]} A^{[0]T}$$\n",
        "$$dB^{[1]} = \\frac{1}{m} \\Sigma {dZ^{[1]}}$$\n",
        "\n",
        "**Parameter updates**\n",
        "\n",
        "$$W^{[2]} := W^{[2]} - \\alpha dW^{[2]}$$\n",
        "$$b^{[2]} := b^{[2]} - \\alpha db^{[2]}$$\n",
        "$$W^{[1]} := W^{[1]} - \\alpha dW^{[1]}$$\n",
        "$$b^{[1]} := b^{[1]} - \\alpha db^{[1]}$$\n",
        "\n",
        "**Vars and shapes**\n",
        "\n",
        "Forward prop\n",
        "\n",
        "- $A^{[0]} = X$: 784 x m\n",
        "- $Z^{[1]} \\sim A^{[1]}$: 10 x m\n",
        "- $W^{[1]}$: 10 x 784 (as $W^{[1]} A^{[0]} \\sim Z^{[1]}$)\n",
        "- $B^{[1]}$: 10 x 1\n",
        "- $Z^{[2]} \\sim A^{[2]}$: 10 x m\n",
        "- $W^{[1]}$: 10 x 10 (as $W^{[2]} A^{[1]} \\sim Z^{[2]}$)\n",
        "- $B^{[2]}$: 10 x 1\n",
        "\n",
        "Backprop\n",
        "\n",
        "- $dZ^{[2]}$: 10 x m ($~A^{[2]}$)\n",
        "- $dW^{[2]}$: 10 x 10\n",
        "- $dB^{[2]}$: 10 x 1\n",
        "- $dZ^{[1]}$: 10 x m ($~A^{[1]}$)\n",
        "- $dW^{[1]}$: 10 x 10\n",
        "- $dB^{[1]}$: 10 x 1"
      ]
    },
    {
      "cell_type": "code",
      "metadata": {
        "execution": {
          "iopub.execute_input": "2020-11-24T15:33:49.458553Z",
          "iopub.status.busy": "2020-11-24T15:33:49.457534Z",
          "iopub.status.idle": "2020-11-24T15:33:49.460243Z",
          "shell.execute_reply": "2020-11-24T15:33:49.460754Z"
        },
        "papermill": {
          "duration": 0.035762,
          "end_time": "2020-11-24T15:33:49.460906",
          "exception": false,
          "start_time": "2020-11-24T15:33:49.425144",
          "status": "completed"
        },
        "tags": [],
        "id": "gQcIhU2cxjAQ"
      },
      "source": [
        "def init_params():\n",
        "    W1 = np.random.rand(10, 784) - 0.5\n",
        "    b1 = np.random.rand(10, 1) - 0.5\n",
        "    W2 = np.random.rand(10, 10) - 0.5\n",
        "    b2 = np.random.rand(10, 1) - 0.5\n",
        "    return W1, b1, W2, b2\n",
        "\n",
        "def ReLU(Z):\n",
        "    return np.maximum(Z, 0)\n",
        "\n",
        "def softmax(Z):\n",
        "    A = np.exp(Z) / sum(np.exp(Z))\n",
        "    return A\n",
        "    \n",
        "def forward_prop(W1, b1, W2, b2, X):\n",
        "    Z1 = W1.dot(X) + b1\n",
        "    A1 = ReLU(Z1)\n",
        "    Z2 = W2.dot(A1) + b2\n",
        "    A2 = softmax(Z2)\n",
        "    return Z1, A1, Z2, A2\n",
        "\n",
        "def ReLU_deriv(Z):\n",
        "    return Z > 0\n",
        "\n",
        "def one_hot(Y):\n",
        "    one_hot_Y = np.zeros((Y.size, Y.max() + 1))\n",
        "    one_hot_Y[np.arange(Y.size), Y] = 1\n",
        "    one_hot_Y = one_hot_Y.T\n",
        "    return one_hot_Y\n",
        "\n",
        "def backward_prop(Z1, A1, Z2, A2, W1, W2, X, Y):\n",
        "    one_hot_Y = one_hot(Y)\n",
        "    dZ2 = A2 - one_hot_Y\n",
        "    dW2 = 1 / m * dZ2.dot(A1.T)\n",
        "    db2 = 1 / m * np.sum(dZ2)\n",
        "    dZ1 = W2.T.dot(dZ2) * ReLU_deriv(Z1)\n",
        "    dW1 = 1 / m * dZ1.dot(X.T)\n",
        "    db1 = 1 / m * np.sum(dZ1)\n",
        "    return dW1, db1, dW2, db2\n",
        "\n",
        "def update_params(W1, b1, W2, b2, dW1, db1, dW2, db2, alpha):\n",
        "    W1 = W1 - alpha * dW1\n",
        "    b1 = b1 - alpha * db1    \n",
        "    W2 = W2 - alpha * dW2  \n",
        "    b2 = b2 - alpha * db2    \n",
        "    return W1, b1, W2, b2"
      ],
      "execution_count": null,
      "outputs": []
    },
    {
      "cell_type": "code",
      "metadata": {
        "execution": {
          "iopub.execute_input": "2020-11-24T15:33:49.496820Z",
          "iopub.status.busy": "2020-11-24T15:33:49.493109Z",
          "iopub.status.idle": "2020-11-24T15:33:49.499268Z",
          "shell.execute_reply": "2020-11-24T15:33:49.499782Z"
        },
        "papermill": {
          "duration": 0.026744,
          "end_time": "2020-11-24T15:33:49.499906",
          "exception": false,
          "start_time": "2020-11-24T15:33:49.473162",
          "status": "completed"
        },
        "tags": [],
        "id": "7bfa0ow3xjAR"
      },
      "source": [
        "def get_predictions(A2):\n",
        "    return np.argmax(A2, 0)\n",
        "\n",
        "def get_accuracy(predictions, Y):\n",
        "    print(predictions, Y)\n",
        "    return np.sum(predictions == Y) / Y.size\n",
        "\n",
        "def gradient_descent(X, Y, alpha, iterations):\n",
        "    W1, b1, W2, b2 = init_params()\n",
        "    for i in range(iterations):\n",
        "        Z1, A1, Z2, A2 = forward_prop(W1, b1, W2, b2, X)\n",
        "        dW1, db1, dW2, db2 = backward_prop(Z1, A1, Z2, A2, W1, W2, X, Y)\n",
        "        W1, b1, W2, b2 = update_params(W1, b1, W2, b2, dW1, db1, dW2, db2, alpha)\n",
        "        if i % 10 == 0:\n",
        "            print(\"Iteration: \", i)\n",
        "            predictions = get_predictions(A2)\n",
        "            print(get_accuracy(predictions, Y))\n",
        "    return W1, b1, W2, b2"
      ],
      "execution_count": null,
      "outputs": []
    },
    {
      "cell_type": "code",
      "metadata": {
        "execution": {
          "iopub.execute_input": "2020-11-24T15:33:49.529813Z",
          "iopub.status.busy": "2020-11-24T15:33:49.529067Z",
          "iopub.status.idle": "2020-11-24T15:34:33.915250Z",
          "shell.execute_reply": "2020-11-24T15:34:33.914598Z"
        },
        "papermill": {
          "duration": 44.403186,
          "end_time": "2020-11-24T15:34:33.915380",
          "exception": false,
          "start_time": "2020-11-24T15:33:49.512194",
          "status": "completed"
        },
        "tags": [],
        "id": "jzpBTH-ZxjAR"
      },
      "source": [
        "W1, b1, W2, b2 = gradient_descent(X_train, Y_train, 0.10, 500)"
      ],
      "execution_count": null,
      "outputs": []
    },
    {
      "cell_type": "markdown",
      "metadata": {
        "papermill": {
          "duration": 0.03222,
          "end_time": "2020-11-24T15:34:33.980634",
          "exception": false,
          "start_time": "2020-11-24T15:34:33.948414",
          "status": "completed"
        },
        "tags": [],
        "id": "0uYQ8gUixjAS"
      },
      "source": [
        "~85% accuracy on training set."
      ]
    },
    {
      "cell_type": "code",
      "metadata": {
        "execution": {
          "iopub.execute_input": "2020-11-24T15:34:34.058947Z",
          "iopub.status.busy": "2020-11-24T15:34:34.058192Z",
          "iopub.status.idle": "2020-11-24T15:34:34.061542Z",
          "shell.execute_reply": "2020-11-24T15:34:34.060921Z"
        },
        "papermill": {
          "duration": 0.048197,
          "end_time": "2020-11-24T15:34:34.061656",
          "exception": false,
          "start_time": "2020-11-24T15:34:34.013459",
          "status": "completed"
        },
        "tags": [],
        "id": "gursOL12xjAS"
      },
      "source": [
        "def make_predictions(X, W1, b1, W2, b2):\n",
        "    _, _, _, A2 = forward_prop(W1, b1, W2, b2, X)\n",
        "    predictions = get_predictions(A2)\n",
        "    return predictions\n",
        "\n",
        "def test_prediction(index, W1, b1, W2, b2):\n",
        "    current_image = X_train[:, index, None]\n",
        "    prediction = make_predictions(X_train[:, index, None], W1, b1, W2, b2)\n",
        "    label = Y_train[index]\n",
        "    print(\"Prediction: \", prediction)\n",
        "    print(\"Label: \", label)\n",
        "    \n",
        "    current_image = current_image.reshape((28, 28)) * 255\n",
        "    plt.gray()\n",
        "    plt.imshow(current_image, interpolation='nearest')\n",
        "    plt.show()"
      ],
      "execution_count": null,
      "outputs": []
    },
    {
      "cell_type": "markdown",
      "metadata": {
        "papermill": {
          "duration": 0.032382,
          "end_time": "2020-11-24T15:34:34.126664",
          "exception": false,
          "start_time": "2020-11-24T15:34:34.094282",
          "status": "completed"
        },
        "tags": [],
        "id": "OGr9oC5dxjAT"
      },
      "source": [
        "Let's look at a couple of examples:"
      ]
    },
    {
      "cell_type": "code",
      "metadata": {
        "execution": {
          "iopub.execute_input": "2020-11-24T15:34:34.198764Z",
          "iopub.status.busy": "2020-11-24T15:34:34.197926Z",
          "iopub.status.idle": "2020-11-24T15:34:34.858256Z",
          "shell.execute_reply": "2020-11-24T15:34:34.857536Z"
        },
        "papermill": {
          "duration": 0.699008,
          "end_time": "2020-11-24T15:34:34.858375",
          "exception": false,
          "start_time": "2020-11-24T15:34:34.159367",
          "status": "completed"
        },
        "tags": [],
        "id": "ahitj6fCxjAT"
      },
      "source": [
        "test_prediction(0, W1, b1, W2, b2)\n",
        "test_prediction(1, W1, b1, W2, b2)\n",
        "test_prediction(2, W1, b1, W2, b2)\n",
        "test_prediction(3, W1, b1, W2, b2)"
      ],
      "execution_count": null,
      "outputs": []
    },
    {
      "cell_type": "markdown",
      "metadata": {
        "papermill": {
          "duration": 0.037333,
          "end_time": "2020-11-24T15:34:34.933186",
          "exception": false,
          "start_time": "2020-11-24T15:34:34.895853",
          "status": "completed"
        },
        "tags": [],
        "id": "c1KxU34_xjAU"
      },
      "source": [
        "Finally, let's find the accuracy on the dev set:"
      ]
    },
    {
      "cell_type": "code",
      "metadata": {
        "execution": {
          "iopub.execute_input": "2020-11-24T15:34:35.013161Z",
          "iopub.status.busy": "2020-11-24T15:34:35.012371Z",
          "iopub.status.idle": "2020-11-24T15:34:35.033284Z",
          "shell.execute_reply": "2020-11-24T15:34:35.032394Z"
        },
        "papermill": {
          "duration": 0.062985,
          "end_time": "2020-11-24T15:34:35.033457",
          "exception": false,
          "start_time": "2020-11-24T15:34:34.970472",
          "status": "completed"
        },
        "tags": [],
        "id": "3HODUWuOxjAU"
      },
      "source": [
        "dev_predictions = make_predictions(X_dev, W1, b1, W2, b2)\n",
        "get_accuracy(dev_predictions, Y_dev)"
      ],
      "execution_count": null,
      "outputs": []
    },
    {
      "cell_type": "markdown",
      "metadata": {
        "papermill": {
          "duration": 0.038287,
          "end_time": "2020-11-24T15:34:35.112466",
          "exception": false,
          "start_time": "2020-11-24T15:34:35.074179",
          "status": "completed"
        },
        "tags": [],
        "id": "gcfup9uyxjAU"
      },
      "source": [
        ""
      ]
    }
  ]
}